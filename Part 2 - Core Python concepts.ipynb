{
 "cells": [
  {
   "cell_type": "markdown",
   "id": "a0f005d5",
   "metadata": {},
   "source": [
    "## List"
   ]
  },
  {
   "cell_type": "code",
   "execution_count": 1,
   "id": "4c20773a",
   "metadata": {},
   "outputs": [
    {
     "name": "stdout",
     "output_type": "stream",
     "text": [
      "['Banana', 'Apple', 'Orange', 'Grape', 'Kiwi']\n",
      "[10, 20, 30, 40]\n",
      "['X', 'Y', 'Z', 1, 2, True, False, ['list', 'within', 'list'], 3.14, 0.1, None]\n"
     ]
    }
   ],
   "source": [
    "fruits = ['Banana','Apple','Orange','Grape','Kiwi']\n",
    "numbers = [10,20,30,40]\n",
    "data = ['X','Y','Z',1,2,True,False,['list','within','list'],3.14,0.1,None]\n",
    "print(fruits)\n",
    "print(numbers)\n",
    "print(data)"
   ]
  },
  {
   "cell_type": "code",
   "execution_count": 2,
   "id": "6220b1a4",
   "metadata": {},
   "outputs": [
    {
     "name": "stdout",
     "output_type": "stream",
     "text": [
      "Banana\n"
     ]
    },
    {
     "data": {
      "text/plain": [
       "'Banana'"
      ]
     },
     "execution_count": 2,
     "metadata": {},
     "output_type": "execute_result"
    }
   ],
   "source": [
    "print(fruits[0])\n",
    "fruits[0]"
   ]
  },
  {
   "cell_type": "code",
   "execution_count": 3,
   "id": "9c18be95",
   "metadata": {},
   "outputs": [
    {
     "name": "stdout",
     "output_type": "stream",
     "text": [
      "['Banana', 'Apple', 'Orange']\n",
      "Grape\n",
      "within\n",
      "['Banana', 'Apple', 'Orange']\n",
      "['Orange', 'Grape', 'Kiwi']\n",
      "['Banana', 'Apple', 'Orange', 'Grape', 'Kiwi']\n",
      "['Banana', 'Apple', 'Orange', 'Grape']\n",
      "5\n"
     ]
    }
   ],
   "source": [
    "print(fruits[0:3])\n",
    "print(fruits[-2])\n",
    "print(data[7][1])\n",
    "print(fruits[:3])\n",
    "print(fruits[2:])\n",
    "print(fruits[:])\n",
    "print(fruits[0:-1])\n",
    "print(len(fruits))\n"
   ]
  },
  {
   "cell_type": "code",
   "execution_count": 4,
   "id": "43a94a98",
   "metadata": {},
   "outputs": [
    {
     "name": "stdout",
     "output_type": "stream",
     "text": [
      "['Watermelon', 'Apple', 'Orange', 'Grape', 'Kiwi', 'Durian']\n",
      "['Watermelon', 'Mango', 'Apple', 'Orange', 'Grape', 'Kiwi', 'Durian']\n",
      "['Watermelon', 'Mango', 'Apple', 'Orange', 'Grape', 'Durian']\n",
      "['Mango', 'Apple', 'Orange', 'Grape', 'Durian']\n"
     ]
    }
   ],
   "source": [
    "fruits[0]='Watermelon'\n",
    "fruits.append('Durian')\n",
    "print(fruits)\n",
    "\n",
    "fruits.insert(1,'Mango')\n",
    "print(fruits)\n",
    "\n",
    "fruits.remove('Kiwi')\n",
    "print(fruits)\n",
    "\n",
    "del fruits[0]\n",
    "print(fruits)"
   ]
  },
  {
   "cell_type": "code",
   "execution_count": 10,
   "id": "ba531b15",
   "metadata": {},
   "outputs": [
    {
     "name": "stdout",
     "output_type": "stream",
     "text": [
      "['Apple', 'Durian', 'Grape', 'Mango', 'Orange']\n"
     ]
    }
   ],
   "source": [
    "fruits.reverse()\n",
    "print(fruits)"
   ]
  },
  {
   "cell_type": "code",
   "execution_count": 6,
   "id": "57e1c791",
   "metadata": {},
   "outputs": [
    {
     "name": "stdout",
     "output_type": "stream",
     "text": [
      "8\n"
     ]
    }
   ],
   "source": [
    "print(data.index(3.14))"
   ]
  },
  {
   "cell_type": "code",
   "execution_count": 14,
   "id": "0b6bd809",
   "metadata": {},
   "outputs": [
    {
     "name": "stdout",
     "output_type": "stream",
     "text": [
      "['Apple', 'Durian', 'Grape', 'Mango', 'Orange']\n",
      "[40, 30, 20, 10]\n"
     ]
    }
   ],
   "source": [
    "fruits.sort()\n",
    "print(fruits)\n",
    "\n",
    "numbers.sort(reverse=True)\n",
    "print(numbers)"
   ]
  },
  {
   "cell_type": "code",
   "execution_count": 17,
   "id": "dcca0437",
   "metadata": {},
   "outputs": [
    {
     "name": "stdout",
     "output_type": "stream",
     "text": [
      "['Apple', 'apple', 'Banana', 'banana', 'Orange']\n"
     ]
    }
   ],
   "source": [
    "fruits1=['Banana','Apple','Orange','apple','banana']\n",
    "fruits1.sort(key=str.lower)\n",
    "print(fruits1)"
   ]
  },
  {
   "cell_type": "code",
   "execution_count": 19,
   "id": "b1022023",
   "metadata": {},
   "outputs": [
    {
     "name": "stdout",
     "output_type": "stream",
     "text": [
      "0 Apple\n",
      "1 Durian\n",
      "2 Grape\n",
      "3 Mango\n",
      "4 Orange\n"
     ]
    }
   ],
   "source": [
    "for idx,item in enumerate(fruits):\n",
    "    print(idx,item)"
   ]
  },
  {
   "cell_type": "code",
   "execution_count": 22,
   "id": "d38a431e",
   "metadata": {},
   "outputs": [
    {
     "name": "stdout",
     "output_type": "stream",
     "text": [
      "[0, 0, 0, 0, 0, 0, 0, 0, 0, 0, 0, 0, 0, 0, 0, 0, 0, 0, 0, 0, 0, 0, 0, 0, 0, 0, 0, 0, 0, 0, 0, 0, 0, 0, 0, 0, 0, 0, 0, 0, 0, 0, 0, 0, 0, 0, 0, 0, 0, 0, 0, 0, 0, 0, 0, 0, 0, 0, 0, 0, 0, 0, 0, 0, 0, 0, 0, 0, 0, 0, 0, 0, 0, 0, 0, 0, 0, 0, 0, 0, 0, 0, 0, 0, 0, 0, 0, 0, 0, 0, 0, 0, 0, 0, 0, 0, 0, 0, 0, 0]\n"
     ]
    }
   ],
   "source": [
    "zerose = [0] * 100\n",
    "print(zerose)"
   ]
  },
  {
   "cell_type": "code",
   "execution_count": 23,
   "id": "d89b9a6e",
   "metadata": {},
   "outputs": [
    {
     "name": "stdout",
     "output_type": "stream",
     "text": [
      "['Apple', 'Durian', 'Grape', 'Mango', 'Orange', 40, 30, 20, 10]\n"
     ]
    }
   ],
   "source": [
    "newlist = fruits + numbers\n",
    "print(newlist)"
   ]
  },
  {
   "cell_type": "markdown",
   "id": "a6eae51c",
   "metadata": {},
   "source": [
    "## Dictonary"
   ]
  },
  {
   "cell_type": "code",
   "execution_count": 1,
   "id": "0f1ce3ed",
   "metadata": {},
   "outputs": [
    {
     "name": "stdout",
     "output_type": "stream",
     "text": [
      "{'Brand': 'Apple', 'Model': 'MacBook Pro', 'size': 13}\n"
     ]
    }
   ],
   "source": [
    "laptop = {'Brand':'Apple','Model':'MacBook Pro','size':13}\n",
    "print(laptop)"
   ]
  },
  {
   "cell_type": "code",
   "execution_count": 2,
   "id": "aa51ab70",
   "metadata": {},
   "outputs": [
    {
     "name": "stdout",
     "output_type": "stream",
     "text": [
      "{'Brand': 'Apple', 'Model': 'MacBook Pro', 'size': 20}\n",
      "Apple\n",
      "{'Brand': 'Lenovo', 'Model': 'MacBook Air', 'size': 23, 'color': 'gray'}\n"
     ]
    }
   ],
   "source": [
    "laptop['size']=20\n",
    "print(laptop)\n",
    "\n",
    "print(laptop['Brand'])\n",
    "\n",
    "laptop.update({'Brand':'Lenovo','Model':'MacBook Air','size':23,'color':'gray'})\n",
    "print(laptop)"
   ]
  },
  {
   "cell_type": "code",
   "execution_count": 3,
   "id": "ffb21fc5",
   "metadata": {},
   "outputs": [
    {
     "name": "stdout",
     "output_type": "stream",
     "text": [
      "gray\n",
      "{'Brand': 'Lenovo', 'Model': 'MacBook Air', 'size': 23}\n"
     ]
    }
   ],
   "source": [
    "a=laptop.pop('color')\n",
    "print(a)\n",
    "print(laptop)"
   ]
  },
  {
   "cell_type": "code",
   "execution_count": 4,
   "id": "0067ae02",
   "metadata": {},
   "outputs": [
    {
     "name": "stdout",
     "output_type": "stream",
     "text": [
      "{'Brand': 'Lenovo', 'Model': 'MacBook Air'}\n"
     ]
    }
   ],
   "source": [
    "del laptop['size']\n",
    "print(laptop)"
   ]
  },
  {
   "cell_type": "code",
   "execution_count": 12,
   "id": "41696112",
   "metadata": {},
   "outputs": [
    {
     "name": "stdout",
     "output_type": "stream",
     "text": [
      "{'Brand': 'Lenovo', 'Model': 'MacBook Air', 'size': 23, 'color': 'gray'}\n",
      "-----------------------------------------\n",
      "Brand\n",
      "Model\n",
      "size\n",
      "color\n",
      "-----------------------------------------\n",
      "Brand : Lenovo\n",
      "Model : MacBook Air\n",
      "size : 23\n",
      "color : gray\n",
      "-----------------------------------------\n",
      "Lenovo\n",
      "MacBook Air\n",
      "23\n",
      "gray\n"
     ]
    }
   ],
   "source": [
    "laptop.update({'Brand':'Lenovo','Model':'MacBook Air','size':23,'color':'gray'})\n",
    "print(laptop)\n",
    "print(\"-----------------------------------------\")\n",
    "\n",
    "for i in laptop.keys():\n",
    "    print(i)\n",
    "    \n",
    "print(\"-----------------------------------------\")\n",
    "\n",
    "for i,j in laptop.items():\n",
    "    print(i,\":\",j)\n",
    "    \n",
    "print(\"-----------------------------------------\")\n",
    "for i in laptop.values():\n",
    "    print(i)"
   ]
  },
  {
   "cell_type": "code",
   "execution_count": 21,
   "id": "145287a9",
   "metadata": {},
   "outputs": [
    {
     "name": "stdout",
     "output_type": "stream",
     "text": [
      "gray\n",
      "Key not found\n",
      "None\n"
     ]
    }
   ],
   "source": [
    "print(laptop['color'])\n",
    "\n",
    "print(laptop.get('height','Key not found'))\n",
    "\n",
    "print(laptop.get('height'))  # It will not shows error even if the item is not present in dictonary"
   ]
  },
  {
   "cell_type": "code",
   "execution_count": 23,
   "id": "e04351c5",
   "metadata": {},
   "outputs": [
    {
     "name": "stdout",
     "output_type": "stream",
     "text": [
      "{'Brand': 'Lenovo', 'Model': 'MacBook Air', 'size': 23, 'color': 'gray', 'company': 'Microsoft'}\n",
      "-------------------------------------\n",
      "{'Brand': 'Lenovo', 'Model': 'MacBook Air', 'size': 23, 'color': 'gray', 'company': 'Microsoft'}\n"
     ]
    }
   ],
   "source": [
    "laptop.setdefault('company','Microsoft') #The item which is not exist will add in the list\n",
    "print(laptop)\n",
    "print('-------------------------------------')\n",
    "laptop.setdefault('Brand','Microsoft') #The item which is already exist will not change\n",
    "print(laptop)            "
   ]
  },
  {
   "cell_type": "code",
   "execution_count": 27,
   "id": "512ac18c",
   "metadata": {},
   "outputs": [
    {
     "name": "stdout",
     "output_type": "stream",
     "text": [
      "{'Jeff': {'age': 27, 'salary': 13000},\n",
      " 'Mac': {'age': 20, 'salary': 3000},\n",
      " 'Robin': {'age': 22, 'salary': 23000}}\n",
      "-----------------------------\n",
      "{'Robin': {'age': 22, 'salary': 23000}, 'Jeff': {'age': 27, 'salary': 13000}, 'Mac': {'age': 20, 'salary': 3000}}\n"
     ]
    }
   ],
   "source": [
    "import pprint\n",
    "employee = {'Robin':{'age':22,'salary':23000},\n",
    "           'Jeff':{'age':27,'salary':13000},\n",
    "           'Mac':{'age':20,'salary':3000}}\n",
    "pprint.pprint(employee)\n",
    "print('-----------------------------')\n",
    "print(employee)"
   ]
  },
  {
   "cell_type": "markdown",
   "id": "2abf4552",
   "metadata": {},
   "source": [
    "## Exception Handling: Using Try and Except block"
   ]
  },
  {
   "cell_type": "code",
   "execution_count": null,
   "id": "e083f650",
   "metadata": {},
   "outputs": [],
   "source": [
    "try:\n",
    "    block of code\n",
    "except:\n",
    "    execute when error happens\n",
    "else:\n",
    "    execute when there is no error\n",
    "finally:\n",
    "    always execute\n",
    "    \n",
    "raise exceptions #User defined exeptions"
   ]
  },
  {
   "cell_type": "code",
   "execution_count": 8,
   "id": "f48638ba",
   "metadata": {},
   "outputs": [
    {
     "name": "stdout",
     "output_type": "stream",
     "text": [
      "3\n",
      "Invalid Number\n",
      "Execution Completed!\n"
     ]
    }
   ],
   "source": [
    "def addNumbers(num1,num2):\n",
    "    try:\n",
    "        return(num1+num2)\n",
    "    except TypeError:   #will handel only type error\n",
    "        return('Invalid Number')\n",
    "    #except NameError:\n",
    "        #return('Invalid parameter')\n",
    "    except Exception as e:  #Will handle what is error\n",
    "        return(e)\n",
    "    #return(num1+num2)\n",
    "print(addNumbers(1,2))\n",
    "print(addNumbers(1,'a'))\n",
    "print('Execution Completed!')"
   ]
  },
  {
   "cell_type": "code",
   "execution_count": 11,
   "id": "13a42bfa",
   "metadata": {},
   "outputs": [
    {
     "name": "stdout",
     "output_type": "stream",
     "text": [
      "3\n",
      "Only int and float values are allowed\n",
      "Execution Completed!\n"
     ]
    }
   ],
   "source": [
    "def addNumbers(num1,num2):\n",
    "    try:\n",
    "        if(isinstance(num1,int) or isinstance(num2,float) and isinstance(num1,float) or isinstance(num2,int)):\n",
    "            return(num1+num2)\n",
    "        else:\n",
    "            raise Exception('Only int and float values are allowed')\n",
    "    except Exception as e:\n",
    "        return e\n",
    "\n",
    "    return(num1+num2)\n",
    "print(addNumbers(1,2))\n",
    "print(addNumbers('a','b'))\n",
    "print('Execution Completed!')"
   ]
  },
  {
   "cell_type": "code",
   "execution_count": 13,
   "id": "6eb123d1",
   "metadata": {},
   "outputs": [
    {
     "name": "stdout",
     "output_type": "stream",
     "text": [
      "13\n",
      "Succesfull...\n",
      "THE END...\n",
      "Invalid Number\n",
      "THE END...\n"
     ]
    }
   ],
   "source": [
    "def addNumbers(num1,num2):\n",
    "    try:\n",
    "        print(num1+num2)\n",
    "    except TypeError:\n",
    "        print('Invalid Number')\n",
    "    except Exception as e:\n",
    "        print(e)\n",
    "    else:\n",
    "        print('Succesfull...')\n",
    "    finally:\n",
    "        print('THE END...')\n",
    "    \n",
    "addNumbers(10,3)\n",
    "addNumbers(10,'a')\n"
   ]
  },
  {
   "cell_type": "code",
   "execution_count": null,
   "id": "2d937f5d",
   "metadata": {},
   "outputs": [],
   "source": []
  }
 ],
 "metadata": {
  "kernelspec": {
   "display_name": "Python 3 (ipykernel)",
   "language": "python",
   "name": "python3"
  },
  "language_info": {
   "codemirror_mode": {
    "name": "ipython",
    "version": 3
   },
   "file_extension": ".py",
   "mimetype": "text/x-python",
   "name": "python",
   "nbconvert_exporter": "python",
   "pygments_lexer": "ipython3",
   "version": "3.9.7"
  }
 },
 "nbformat": 4,
 "nbformat_minor": 5
}
